{
 "cells": [
  {
   "cell_type": "markdown",
   "id": "fa6655ef",
   "metadata": {},
   "source": [
    "### 1. What is Statistics ?"
   ]
  },
  {
   "cell_type": "markdown",
   "id": "c3fe7ac4",
   "metadata": {},
   "source": [
    "Statistics is a branch of mathematics that deals with the collection, analysis, interpretation, presentation, and organization of numerical data. It provides methods and techniques for summarizing and making inferences from data, as well as for quantifying uncertainty and variability. Statistics plays a crucial role in various fields, including science, business, economics, social sciences, medicine, engineering, and more."
   ]
  },
  {
   "cell_type": "markdown",
   "id": "fcdec8d7",
   "metadata": {},
   "source": [
    "### 2. Define the different types of Statistics and give an example of when each type might be used ?"
   ]
  },
  {
   "cell_type": "markdown",
   "id": "1b325ec4",
   "metadata": {},
   "source": [
    "There are 2 types of statistics.\n",
    "1. Discriptive statistics: It consists of organizing and summarizing the data. it used when we need to find measure of central tendancy like mean, median, mode. it can be used to measure dispresion like standard deviation, variance. it can be used to plot diffrent types of distribution of data like histogram, PDF, PMF etc. \n",
    "for ex. we have a height of class and we need to find average height of class then we uses discriptive statistics.\n",
    "\n",
    "2. Inferential Statistics: It can used to form a conclusion using data that you have measured. here form group of sample data we can form conclusion for populatioin data. here we uses some tests like Z-test, T-test etc to form conclusion.\n",
    "for ex. we have average marks of all classes of school so from this we can conclude that what is average marks of school. here class marks are sample data and school marks is population data.\n"
   ]
  },
  {
   "cell_type": "markdown",
   "id": "efe4b278",
   "metadata": {},
   "source": [
    "### 3. What is the different types of data and how do they differ from each other? Provide an examples of each types of data."
   ]
  },
  {
   "cell_type": "markdown",
   "id": "33817691",
   "metadata": {},
   "source": [
    "we can categories data in 2 types.\n",
    "1. Quantitative\n",
    "2. Qualitative\n",
    "\n",
    "\n",
    "1. Quantitative Data: It consists of numerical data. further categories in 2 types. \n",
    "    \n",
    "    Discrete: it consists only whole number. used to measure number of students in class.(10,15,20 etc)\n",
    "    \n",
    "    Continuous: it consists decimal number. used to measure height of person.(170 cm ,180.2 cm etc) \n",
    "    \n",
    "    \n",
    "2. Qualitative Data: It consists of categorical data. further categories in 2 types.\n",
    "\n",
    "    Nominal data: categories where order does not matter. for ex. male/female\n",
    "    \n",
    "    Ordinal data: categories where order matter or we can assign rank. for ex. coustmer reviews (Bad, Better, Best) \n",
    "    "
   ]
  },
  {
   "cell_type": "markdown",
   "id": "40243501",
   "metadata": {},
   "source": [
    "### 4. Categories the following datasets with respects to quantitative and qualitative data types:"
   ]
  },
  {
   "cell_type": "markdown",
   "id": "9f60e76c",
   "metadata": {},
   "source": [
    "(i) Grading in exam: Qualitative\n",
    "\n",
    "(ii) colour of mangoes: Qualitative\n",
    "\n",
    "(iii) Height of a class : Quantitative\n",
    "\n",
    "(iv) Number of mangoes exported by a farm: Quantitative"
   ]
  },
  {
   "cell_type": "markdown",
   "id": "dc41df2b",
   "metadata": {},
   "source": [
    "### 5. Explain the concept of levels of measurement and give an example of variable for each level. "
   ]
  },
  {
   "cell_type": "markdown",
   "id": "9084b80f",
   "metadata": {},
   "source": [
    "There are 4 levels of measurement:\n",
    "    \n",
    "1. Nominal level: it is a qualitative or categorical data. order does not matter. for ex. gender, colors, any specific lables\n",
    "\n",
    "2. Ordinal level: here ranking is important. order matter. difference cannot be measured. for ex. coustmer reviews rank 1,2,3 is best,good,bad respectively.\n",
    "\n",
    "3. Interval level: here order matter. difference can be measured. ratio can be measured. no true \"0\" starting point. for ex. temperature variable: 30F,60F,90F etc. here difference can be measured but by ration we can not find any meaning like at 90F atmosphere is three time hot than 30F temperature.\n",
    "\n",
    "4. Ratio level: here order mattter. difference are measurable including ratio. it contains a \"0\" starting point. for ex. marks of students are 60,50,40,30. by ration we can conclude that student who get 60 marks has twice of that student who get 30 marks."
   ]
  },
  {
   "cell_type": "markdown",
   "id": "a1242552",
   "metadata": {},
   "source": [
    "### 6. Why it is important to understand the level of measurement when analyzing the data ? provide an example to illustrate your answer."
   ]
  },
  {
   "cell_type": "markdown",
   "id": "f3536faa",
   "metadata": {},
   "source": [
    "Understanding the level of measurement is crucial when analyzing data because it determines the types of statistical analyses and interpretations that are appropriate. Different levels of measurement imply different properties and characteristics of the data, and using the wrong statistical techniques can lead to inaccurate conclusions or misinterpretations.\n",
    "\n",
    "Now, let's consider an example to illustrate the importance of understanding the level of measurement:\n",
    "\n",
    "Suppose you're conducting a study on customer satisfaction for a retail store. You collect data on various aspects of satisfaction, including the customers' gender (male/female), their satisfaction level (ordinal scale: very satisfied, satisfied, neutral, dissatisfied, very dissatisfied), and their age (ratio scale).\n",
    "\n",
    "If you treat gender as a ratio variable and perform arithmetic operations like calculating the mean gender, it would lead to meaningless results because gender is a nominal variable. Similarly, if you treat satisfaction level as an interval scale and calculate the mean satisfaction score, it would be misleading because the intervals between categories are not necessarily equal."
   ]
  },
  {
   "cell_type": "markdown",
   "id": "dc9c900f",
   "metadata": {},
   "source": [
    "### 7. How nominal data types is different from ordinal data types?"
   ]
  },
  {
   "cell_type": "markdown",
   "id": "e4a97c64",
   "metadata": {},
   "source": [
    "1. Nominal Data:\n",
    "\n",
    "Nominal data represent categories or labels without any inherent order or ranking.\n",
    "The categories are mutually exclusive and do not have a numerical value associated with them.\n",
    "order also not matter.\n",
    "\n",
    "2. Ordinal scale data:\n",
    "\n",
    "Ordinal data also represent categories or labels, but they have a natural order or ranking.\n",
    "The categories in ordinal data can be ranked or ordered, but the intervals between categories are not necessarily equal."
   ]
  },
  {
   "cell_type": "markdown",
   "id": "04a2a0bc",
   "metadata": {},
   "source": [
    "### 8. Which types of plot can be used to display data in terms of range ?"
   ]
  },
  {
   "cell_type": "markdown",
   "id": "b5a446ea",
   "metadata": {},
   "source": [
    "When you want to display data in terms of range, particularly for ordinal or interval/ratio data, you can use several types of plots. Here are a few common ones:\n",
    "\n",
    "1. Box-plot\n",
    "2. Histogram\n",
    "3. Density plot\n",
    "4. Violin plot\n",
    "5. Range plot"
   ]
  },
  {
   "cell_type": "markdown",
   "id": "982a1a4c",
   "metadata": {},
   "source": [
    "### 9. Describe the difference between descriptive and inferential statistics. Give an example of each type of statistics and explain how they are used. "
   ]
  },
  {
   "cell_type": "markdown",
   "id": "342bd064",
   "metadata": {},
   "source": [
    "1. Descriptive Statistics:\n",
    "\n",
    "Descriptive statistics are used to summarize and describe the basic features of a dataset.\n",
    "They provide simple summaries about the sample or population under study, typically through measures of central tendency (mean, median, mode), measures of variability (range, variance, standard deviation), and measures of distribution (percentiles, quartiles).\n",
    "Descriptive statistics are used to present the characteristics of the data in a clear and concise manner, allowing researchers to understand the underlying patterns, trends, and distributions within the dataset.\n",
    "Example: Suppose you have a dataset containing the heights (in inches) of students in a class. Descriptive statistics would involve calculating the mean height, median height, standard deviation, and range of heights in the dataset. These statistics would provide a summary of the typical height of students in the class, the variability in heights, and the range of heights observed.\n",
    "\n",
    "2. Inferential Statistics:\n",
    "\n",
    "Inferential statistics are used to make inferences or generalizations about a population based on sample data.\n",
    "They involve using probability theory and hypothesis testing to draw conclusions about a population parameter (e.g., population mean, proportion) based on the characteristics of the sample.\n",
    "Inferential statistics allow researchers to make predictions, test hypotheses, and make decisions about populations, using sample data as evidence.\n",
    "Example: Suppose you want to determine whether the average height of students in your class is representative of the average height of all students in the school. You could collect a sample of heights from your class and use inferential statistics, such as a t-test or confidence interval, to assess whether the sample mean height is significantly different from the population mean height. This would enable you to infer whether the observed difference is likely due to chance variation or if it reflects a true difference in heights between the class and the school population."
   ]
  },
  {
   "cell_type": "markdown",
   "id": "2e275d3c",
   "metadata": {},
   "source": [
    "###  10. What are some common measures of central tendency and variability used in statistics? Explain how each measure can be used to describe a dataset."
   ]
  },
  {
   "cell_type": "markdown",
   "id": "3a0954ee",
   "metadata": {},
   "source": [
    "Measures of Central Tendency:\n",
    "\n",
    "    1. Mean:\n",
    "\n",
    "The mean is the sum of all values in a dataset divided by the number of values.\n",
    "It represents the average or typical value in the dataset.\n",
    "Example: The mean salary of employees in a company is calculated by adding up all individual salaries and dividing by the total number of employees.\n",
    "\n",
    "    2. Median:\n",
    "\n",
    "The median is the middle value in a dataset when the values are arranged in ascending or descending order.\n",
    "It is less affected by extreme values (outliers) compared to the mean.\n",
    "Example: If you have a dataset of exam scores, the median score is the score at which half of the students scored above and half scored below.\n",
    "\n",
    "    3. Mode:\n",
    "\n",
    "The mode is the most frequently occurring value in a dataset.\n",
    "It may be used for categorical or discrete data, where you're interested in identifying the most common category or value.\n",
    "Example: In a survey asking for the respondent's favorite color, the mode would be the color chosen by the most respondents.\n",
    "\n",
    "\n",
    "Measures of Variability:\n",
    "\n",
    " 1. Range:\n",
    "\n",
    "The range is the difference between the maximum and minimum values in a dataset.\n",
    "It provides a simple measure of the spread or variability in the data.\n",
    "Example: In a dataset of daily temperatures, the range would be the difference between the highest and lowest temperatures recorded.\n",
    "\n",
    " 2. Variance:\n",
    "\n",
    "Variance measures how much the values in a dataset deviate from the mean.\n",
    "It's calculated by averaging the squared differences between each value and the mean.\n",
    "Variance provides insight into the dispersion or variability of data points around the mean.\n",
    "Example: In a dataset of exam scores, a higher variance indicates greater variability among the scores, while a lower variance suggests more consistency.\n",
    "\n",
    " 3. Standard Deviation:\n",
    "\n",
    "The standard deviation is the square root of the variance.\n",
    "It measures the average distance of data points from the mean.\n",
    "Standard deviation is widely used because it provides a measure of variability in the same units as the original data.\n",
    "Example: In a dataset of heights, a smaller standard deviation indicates that most individuals are close to the mean height, while a larger standard deviation suggests more variability in heights."
   ]
  }
 ],
 "metadata": {
  "kernelspec": {
   "display_name": "Python 3 (ipykernel)",
   "language": "python",
   "name": "python3"
  },
  "language_info": {
   "codemirror_mode": {
    "name": "ipython",
    "version": 3
   },
   "file_extension": ".py",
   "mimetype": "text/x-python",
   "name": "python",
   "nbconvert_exporter": "python",
   "pygments_lexer": "ipython3",
   "version": "3.9.13"
  }
 },
 "nbformat": 4,
 "nbformat_minor": 5
}
